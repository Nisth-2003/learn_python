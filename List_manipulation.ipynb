{
  "nbformat": 4,
  "nbformat_minor": 0,
  "metadata": {
    "colab": {
      "provenance": [],
      "authorship_tag": "ABX9TyPRBbz+lG3N4V5fegbB4uRo",
      "include_colab_link": true
    },
    "kernelspec": {
      "name": "python3",
      "display_name": "Python 3"
    },
    "language_info": {
      "name": "python"
    }
  },
  "cells": [
    {
      "cell_type": "markdown",
      "metadata": {
        "id": "view-in-github",
        "colab_type": "text"
      },
      "source": [
        "<a href=\"https://colab.research.google.com/github/Nisth-2003/learn_python/blob/main/Untitled2.ipynb\" target=\"_parent\"><img src=\"https://colab.research.google.com/assets/colab-badge.svg\" alt=\"Open In Colab\"/></a>"
      ]
    },
    {
      "cell_type": "code",
      "execution_count": 7,
      "metadata": {
        "colab": {
          "base_uri": "https://localhost:8080/"
        },
        "id": "BmV-01T-UwNI",
        "outputId": "721b3037-80f9-4074-9599-36d9d5b998c0"
      },
      "outputs": [
        {
          "output_type": "stream",
          "name": "stdout",
          "text": [
            "[11, 14, 12, 13, 50, 60]\n",
            "[14, 13, 50, 60]\n",
            "[60, 50, 14, 13]\n",
            "13 is present\n",
            "4\n",
            "137\n",
            "13\n",
            "[60, 50, 14]\n"
          ]
        }
      ],
      "source": [
        "L = [11,14,12,13]\n",
        "#addition of new element\n",
        "L.append(50)\n",
        "L.append(60)\n",
        "print(L)\n",
        "#deleting of new element\n",
        "L.remove(11)\n",
        "L.remove(12)\n",
        "print(L)\n",
        "#sorting in ascending and descending\n",
        "L.sort()\n",
        "L.sort(reverse=True)\n",
        "print(L)\n",
        "#search for 13 in List\n",
        "if 13 in L:\n",
        "  print(\"13 is present\")\n",
        "else:\n",
        "  print(\"13 is not present\")\n",
        "#length of the element in List\n",
        "print(len(L))\n",
        "#Sum of the element in List\n",
        "print(sum(L))\n",
        "#sum of odd\n",
        "odd_num  = sum(num for num in L if num%2!=0)\n",
        "print(odd_num)\n",
        "#sum of even\n",
        "#s=0\n",
        "#for i in L:\n",
        " # if (L % 2==0):\n",
        "    #print(su_m=s+i)\n",
        "#sum of prime numbers\n",
        "\n",
        "\n",
        "#clear\n",
        "'''L.clear()\n",
        "print(L)'''\n",
        "#deleting an element\n",
        "del L[3]\n",
        "print(L)\n",
        "def its_prime(n):\n",
        "  if n<=1:\n",
        "    return False\n",
        "  for i in range (10,20):\n",
        "    if n/2==0+1:\n",
        "      return True\n",
        "    else:\n",
        "      return False"
      ]
    }
  ]
}

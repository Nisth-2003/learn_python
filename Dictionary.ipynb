{
  "nbformat": 4,
  "nbformat_minor": 0,
  "metadata": {
    "colab": {
      "provenance": [],
      "authorship_tag": "ABX9TyNxLyFFVEwI8/bwtkHqP95m",
      "include_colab_link": true
    },
    "kernelspec": {
      "name": "python3",
      "display_name": "Python 3"
    },
    "language_info": {
      "name": "python"
    }
  },
  "cells": [
    {
      "cell_type": "markdown",
      "metadata": {
        "id": "view-in-github",
        "colab_type": "text"
      },
      "source": [
        "<a href=\"https://colab.research.google.com/github/Nisth-2003/learn_python/blob/main/Dictionary.ipynb\" target=\"_parent\"><img src=\"https://colab.research.google.com/assets/colab-badge.svg\" alt=\"Open In Colab\"/></a>"
      ]
    },
    {
      "cell_type": "code",
      "execution_count": 11,
      "metadata": {
        "colab": {
          "base_uri": "https://localhost:8080/"
        },
        "id": "C235ZYznZJvw",
        "outputId": "d91967da-ab96-428f-96a0-c22f2bb507fb"
      },
      "outputs": [
        {
          "output_type": "stream",
          "name": "stdout",
          "text": [
            "D after addition {1: 5.6, 2: 7.8, 3: 6.6, 4: 8.7, 5: 7.7, 8: 8.8}\n",
            "After deleting: {1: 5.6, 3: 6.6, 4: 8.7, 5: 7.7, 8: 8.8}\n",
            "After updating: False\n",
            "Length of D: 5\n",
            "After updating: {1: 5.6, 3: 7.1, 4: 8.7, 5: 7.7, 8: 8.8}\n",
            "After clearing: {}\n"
          ]
        }
      ],
      "source": [
        "D= {1:5.6, 2:7.8, 3:6.6, 4:8.7, 5:7.7}\n",
        "#add new entry in D; key=8 and value is 8.8\n",
        "D[8] = 8.8\n",
        "print(\"D after addition\",D)\n",
        "#remove key=2\n",
        "del D[2]\n",
        "print(\"After deleting:\",D)\n",
        "#check weather 6 key is present in D\n",
        "print(\"After updating:\",6 in D)\n",
        "#count the number of elements present in D\n",
        "print(\"Length of D:\",len(D))\n",
        "#add all the values present D\n",
        "'''s=0\n",
        "for i in D:\n",
        "  if(i % 2==0):\n",
        "    su_m=s+i\n",
        "    print(\"Sum of all numbers:\",su_m)'''\n",
        "#update the value of 3 to 7.1\n",
        "D[3]=7.1\n",
        "print(\"After updating:\",D)\n",
        "#clear the dictionary\n",
        "D.clear()\n",
        "print(\"After clearing:\",D)\n"
      ]
    }
  ]
}